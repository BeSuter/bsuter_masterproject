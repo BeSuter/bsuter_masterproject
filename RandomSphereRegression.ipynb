{
 "cells": [
  {
   "cell_type": "code",
   "execution_count": 79,
   "metadata": {},
   "outputs": [
    {
     "name": "stdout",
     "output_type": "stream",
     "text": [
      "(12288,)\n",
      "WARNING: This network assumes that everything concerning healpy is in NEST ordering...\n",
      "Detected a reduction factor of 16, the input with nside 32 will be reduced to 2 during a forward pass. Checking for consistency with indices...\n",
      "indices seem consistent...\n"
     ]
    }
   ],
   "source": [
    "import tensorflow as tf\n",
    "import numpy as np\n",
    "import healpy as hp\n",
    "\n",
    "from DeepSphere import healpy_networks as hp_nn\n",
    "from DeepSphere import gnn_layers\n",
    "import matplotlib.pyplot as plt\n",
    "\n",
    "NSIDE = 32\n",
    "NPIX = hp.nside2npix(NSIDE)\n",
    "\n",
    "all_ipix = list(range(NPIX))\n",
    "hp_map = np.arange(NPIX)\n",
    "\n",
    "hp_map_nest = hp.reorder(hp_map, r2n=True)\n",
    "print(np.shape(hp_map_nest))\n",
    "\n",
    "\n",
    "# define some layers (can be mixed with normal tf layers)\n",
    "# define only one output layer --> only want the mean !?\n",
    "layers = [gnn_layers.HealpyPseudoConv(p=1, Fout=4),\n",
    "          gnn_layers.HealpyPool(p=1),\n",
    "          hp_nn.HealpyChebyshev5(K=5, Fout=8),\n",
    "          gnn_layers.HealpyPseudoConv(p=2, Fout=16),\n",
    "          hp_nn.HealpyMonomial(K=5, Fout=32),\n",
    "          hp_nn.Healpy_ResidualLayer(\"CHEBY\", layer_kwargs={\"K\": 5}),\n",
    "          tf.keras.layers.Flatten(),\n",
    "          tf.keras.layers.Dense(32),\n",
    "          tf.keras.layers.Dense(1)]\n",
    "\n",
    " # build a model\n",
    "tf.keras.backend.clear_session()\n",
    "indices = np.arange(NPIX)\n",
    "model = hp_nn.HealpyGCNN(nside=NSIDE, indices=indices, layers=layers)"
   ]
  },
  {
   "cell_type": "code",
   "execution_count": 93,
   "metadata": {},
   "outputs": [
    {
     "name": "stdout",
     "output_type": "stream",
     "text": [
      "Epoch 1/3\n",
      "500/500 [==============================] - 9s 17ms/step - loss: 1.8345 - val_loss: 0.0285\n",
      "Epoch 2/3\n",
      "500/500 [==============================] - 9s 17ms/step - loss: 0.0303 - val_loss: 0.0304\n",
      "Epoch 3/3\n",
      "500/500 [==============================] - 9s 17ms/step - loss: 0.0250 - val_loss: 0.0230\n"
     ]
    },
    {
     "data": {
      "text/plain": [
       "<tensorflow.python.keras.callbacks.History at 0x7fa50b97cb70>"
      ]
     },
     "execution_count": 93,
     "metadata": {},
     "output_type": "execute_result"
    }
   ],
   "source": [
    "# we build the model\n",
    "# unlike most CNN achitectures you MUST supply in the batch dimension here\n",
    "model.build(input_shape=(1, len(indices), 1))\n",
    "#model.summary(line_length=100)\n",
    "\n",
    "inp = np.random.normal(loc=12, size=(1, len(indices), 1)).astype(np.float32)\n",
    "out = model(inp)\n",
    "\n",
    "\n",
    "model.compile(optimizer=tf.optimizers.Adam(learning_rate=0.01), \n",
    "              loss='mean_absolute_error')\n",
    "\n",
    "\n",
    "train_data = []\n",
    "train_labels = []\n",
    "for i in range(20000):\n",
    "    mean = np.random.rand()\n",
    "    train_labels.append(mean)\n",
    "    train_data.append(np.random.normal(loc=mean, size=(len(indices), 1)).astype(np.float32))\n",
    "train_data = np.asarray(train_data)\n",
    "train_labels = np.asarray(train_labels)\n",
    "\n",
    "\n",
    "model.fit(train_data, train_labels, epochs=3, validation_split=0.2)"
   ]
  },
  {
   "cell_type": "code",
   "execution_count": 95,
   "metadata": {},
   "outputs": [
    {
     "name": "stdout",
     "output_type": "stream",
     "text": [
      "Model predicted 0.502622, true label is 0.5206882829899127\n",
      "Model predicted 0.785956, true label is 0.7686607154171029\n",
      "Model predicted 0.784718, true label is 0.764076150093772\n",
      "Model predicted 0.099775, true label is 0.11185919866242022\n",
      "Model predicted 0.853114, true label is 0.8277204293537743\n",
      "Model predicted 0.972826, true label is 0.9518457810144277\n",
      "Model predicted 0.440336, true label is 0.45067530400212197\n",
      "Model predicted 0.238425, true label is 0.25359721773312693\n",
      "Model predicted 0.349898, true label is 0.3463078541882406\n",
      "Model predicted 0.568584, true label is 0.5626299243717059\n"
     ]
    }
   ],
   "source": [
    "for i in range(10):\n",
    "    mean= np.random.rand()\n",
    "    predictions = model(np.random.normal(loc=mean, size=(1, len(indices), 1)))\n",
    "    print(\"Model predicted %f, true label is %s\" % (predictions, mean))"
   ]
  },
  {
   "cell_type": "code",
   "execution_count": null,
   "metadata": {},
   "outputs": [],
   "source": []
  },
  {
   "cell_type": "code",
   "execution_count": null,
   "metadata": {},
   "outputs": [],
   "source": []
  }
 ],
 "metadata": {
  "kernelspec": {
   "display_name": "Python 3",
   "language": "python",
   "name": "python3"
  },
  "language_info": {
   "codemirror_mode": {
    "name": "ipython",
    "version": 3
   },
   "file_extension": ".py",
   "mimetype": "text/x-python",
   "name": "python",
   "nbconvert_exporter": "python",
   "pygments_lexer": "ipython3",
   "version": "3.6.10"
  }
 },
 "nbformat": 4,
 "nbformat_minor": 4
}
