{
 "cells": [
  {
   "cell_type": "code",
   "execution_count": 117,
   "metadata": {},
   "outputs": [
    {
     "name": "stdout",
     "output_type": "stream",
     "text": [
      "(12288,)\n",
      "WARNING: This network assumes that everything concerning healpy is in NEST ordering...\n",
      "Detected a reduction factor of 16, the input with nside 32 will be reduced to 2 during a forward pass. Checking for consistency with indices...\n",
      "indices seem consistent...\n"
     ]
    }
   ],
   "source": [
    "import tensorflow as tf\n",
    "import numpy as np\n",
    "import healpy as hp\n",
    "\n",
    "from DeepSphere import healpy_networks as hp_nn\n",
    "from DeepSphere import gnn_layers\n",
    "import matplotlib.pyplot as plt\n",
    "\n",
    "NSIDE = 32\n",
    "NPIX = hp.nside2npix(NSIDE)\n",
    "\n",
    "all_ipix = list(range(NPIX))\n",
    "hp_map = np.arange(NPIX)\n",
    "\n",
    "hp_map_nest = hp.reorder(hp_map, r2n=True)\n",
    "print(np.shape(hp_map_nest))\n",
    "\n",
    "\n",
    "# define some layers (can be mixed with normal tf layers)\n",
    "# define only one output layer --> only want the mean !?\n",
    "layers = [gnn_layers.HealpyPseudoConv(p=1, Fout=4),\n",
    "          gnn_layers.HealpyPool(p=1),\n",
    "          hp_nn.HealpyChebyshev5(K=5, Fout=8),\n",
    "          gnn_layers.HealpyPseudoConv(p=2, Fout=16),\n",
    "          hp_nn.HealpyMonomial(K=5, Fout=32),\n",
    "          hp_nn.Healpy_ResidualLayer(\"CHEBY\", layer_kwargs={\"K\": 5}),\n",
    "          tf.keras.layers.Flatten(),\n",
    "          tf.keras.layers.Dense(1)]\n",
    "\n",
    " # build a model\n",
    "tf.keras.backend.clear_session()\n",
    "indices = np.arange(NPIX)\n",
    "model = hp_nn.HealpyGCNN(nside=NSIDE, indices=indices, layers=layers)"
   ]
  },
  {
   "cell_type": "code",
   "execution_count": 118,
   "metadata": {},
   "outputs": [
    {
     "name": "stdout",
     "output_type": "stream",
     "text": [
      "Epoch 1/4\n",
      "500/500 [==============================] - 9s 18ms/step - loss: 0.3011 - val_loss: 0.0499\n",
      "Epoch 2/4\n",
      "500/500 [==============================] - 10s 20ms/step - loss: 0.0224 - val_loss: 0.0232\n",
      "Epoch 3/4\n",
      "500/500 [==============================] - 10s 19ms/step - loss: 0.0228 - val_loss: 0.0340\n",
      "Epoch 4/4\n",
      "500/500 [==============================] - 9s 19ms/step - loss: 0.0257 - val_loss: 0.0229\n"
     ]
    },
    {
     "data": {
      "text/plain": [
       "<tensorflow.python.keras.callbacks.History at 0x7fa4ca5f1198>"
      ]
     },
     "execution_count": 118,
     "metadata": {},
     "output_type": "execute_result"
    }
   ],
   "source": [
    "# we build the model\n",
    "# unlike most CNN achitectures you MUST supply in the batch dimension here\n",
    "model.build(input_shape=(1, len(indices), 1))\n",
    "#model.summary(line_length=100)\n",
    "\n",
    "inp = np.random.normal(loc=12, size=(1, len(indices), 1)).astype(np.float32)\n",
    "out = model(inp)\n",
    "\n",
    "\n",
    "model.compile(optimizer=tf.optimizers.Adam(learning_rate=0.01), \n",
    "              loss='mean_absolute_error')\n",
    "\n",
    "\n",
    "train_data = []\n",
    "train_labels = []\n",
    "for i in range(20000):\n",
    "    mean = np.random.rand()\n",
    "    train_labels.append(mean)\n",
    "    train_data.append(np.random.normal(loc=mean, size=(len(indices), 1)).astype(np.float32))\n",
    "train_data = np.asarray(train_data)\n",
    "train_labels = np.asarray(train_labels)\n",
    "\n",
    "\n",
    "model.fit(train_data, train_labels, epochs=4, validation_split=0.2)"
   ]
  },
  {
   "cell_type": "code",
   "execution_count": 119,
   "metadata": {},
   "outputs": [
    {
     "name": "stdout",
     "output_type": "stream",
     "text": [
      "WARNING:tensorflow:Layer healpy_pseudo_conv is casting an input tensor from dtype float64 to the layer's dtype of float32, which is new behavior in TensorFlow 2.  The layer has dtype float32 because it's dtype defaults to floatx.\n",
      "\n",
      "If you intended to run this layer in float32, you can safely ignore this warning. If in doubt, this warning is likely only an issue if you are porting a TensorFlow 1.X model to TensorFlow 2.\n",
      "\n",
      "To change all layers to have dtype float64 by default, call `tf.keras.backend.set_floatx('float64')`. To change just this layer, pass dtype='float64' to the layer constructor. If you are the author of this layer, you can disable autocasting by passing autocast=False to the base Layer constructor.\n",
      "\n",
      "Model predicted 0.495092, true label is 0.4840984282726378\n",
      "Model predicted 0.533846, true label is 0.5448425919440739\n",
      "Model predicted 0.252379, true label is 0.22044073433831857\n",
      "Model predicted 0.916061, true label is 0.9464558274573321\n",
      "Model predicted 0.479513, true label is 0.4745289135488212\n",
      "Model predicted 0.367424, true label is 0.3640171075685362\n",
      "Model predicted 0.498825, true label is 0.4965446308526166\n",
      "Model predicted 0.395264, true label is 0.40735332213720465\n",
      "Model predicted 0.599772, true label is 0.6079086945988262\n",
      "Model predicted 0.299494, true label is 0.29183671822401214\n"
     ]
    }
   ],
   "source": [
    "for i in range(10):\n",
    "    mean= np.random.rand()\n",
    "    predictions = model(np.random.normal(loc=mean, size=(1, len(indices), 1)))\n",
    "    print(\"Model predicted %f, true label is %s\" % (predictions, mean))"
   ]
  },
  {
   "cell_type": "markdown",
   "metadata": {},
   "source": [
    "# Now we'll try to implement custom training:"
   ]
  },
  {
   "cell_type": "code",
   "execution_count": 120,
   "metadata": {},
   "outputs": [
    {
     "name": "stdout",
     "output_type": "stream",
     "text": [
      "WARNING: This network assumes that everything concerning healpy is in NEST ordering...\n",
      "Detected a reduction factor of 16, the input with nside 32 will be reduced to 2 during a forward pass. Checking for consistency with indices...\n",
      "indices seem consistent...\n"
     ]
    }
   ],
   "source": [
    "# Redefine the model\n",
    "layers = [gnn_layers.HealpyPseudoConv(p=1, Fout=4),\n",
    "          gnn_layers.HealpyPool(p=1),\n",
    "          hp_nn.HealpyChebyshev5(K=5, Fout=8),\n",
    "          gnn_layers.HealpyPseudoConv(p=2, Fout=16),\n",
    "          hp_nn.HealpyMonomial(K=5, Fout=32),\n",
    "          hp_nn.Healpy_ResidualLayer(\"CHEBY\", layer_kwargs={\"K\": 5}),\n",
    "          tf.keras.layers.Flatten(),\n",
    "          tf.keras.layers.Dense(1)]\n",
    "\n",
    " # build a model\n",
    "tf.keras.backend.clear_session()\n",
    "indices = np.arange(NPIX)\n",
    "model = hp_nn.HealpyGCNN(nside=NSIDE, indices=indices, layers=layers)\n",
    "\n",
    "model.build(input_shape=(1, len(indices), 1))"
   ]
  },
  {
   "cell_type": "code",
   "execution_count": 132,
   "metadata": {},
   "outputs": [
    {
     "name": "stdout",
     "output_type": "stream",
     "text": [
      "Loss test: 0.4745839238166809\n"
     ]
    }
   ],
   "source": [
    "# Define the loss and gradient function\n",
    "\n",
    "# Again we will use the MeanAbsoluteError()\n",
    "loss_object = tf.keras.losses.MeanAbsoluteError()\n",
    "\n",
    "\n",
    "def loss(model, x, y, training):\n",
    "    # training=training is needed only if there are layers with different\n",
    "    # behavior during training versus inference (e.g. Dropout).\n",
    "    y_ = model(x, training=training)\n",
    "    \n",
    "    return loss_object(y_true=y, y_pred=y_)\n",
    "\n",
    "# Test the loss function\n",
    "mean = np.random.rand()\n",
    "labels = mean\n",
    "data = np.random.normal(loc=mean, size=(1, len(indices), 1)).astype(np.float32)\n",
    "\n",
    "l = loss(model, data, labels, training=False)\n",
    "#print(\"Loss test: {}\".format(l))"
   ]
  },
  {
   "cell_type": "code",
   "execution_count": 176,
   "metadata": {},
   "outputs": [
    {
     "name": "stdout",
     "output_type": "stream",
     "text": [
      "Step: 0, Initial Loss: 3.67356538772583\n",
      "Step: 1,         Loss: 9.91933822631836\n"
     ]
    }
   ],
   "source": [
    "# Use the tf.GradientTape contex to calculate the gradients used\n",
    "# to optimize the model.\n",
    "def grad(model, inputs, targets):\n",
    "    with tf.GradientTape() as tape:\n",
    "        loss_value = loss(model, inputs, targets, training=True)\n",
    "    return loss_value, tape.gradient(loss_value, model.trainable_variables)\n",
    "\n",
    "# Setup the optimizer\n",
    "optimizer = tf.keras.optimizers.Adam(learning_rate=0.005)\n",
    "\n",
    "# Use this to calculate one single optimization step:\n",
    "\n",
    "loss_value, grads = grad(model, data, labels)\n",
    "\n",
    "'''print(\"Step: {}, Initial Loss: {}\".format(optimizer.iterations.numpy(),\n",
    "                                          loss_value.numpy()))\n",
    "\n",
    "optimizer.apply_gradients(zip(grads, model.trainable_variables))\n",
    "\n",
    "print(\"Step: {},         Loss: {}\".format(optimizer.iterations.numpy(),\n",
    "                                          loss(model, data, labels,\n",
    "                                               training=True).numpy()))'''"
   ]
  },
  {
   "cell_type": "code",
   "execution_count": 177,
   "metadata": {},
   "outputs": [
    {
     "name": "stdout",
     "output_type": "stream",
     "text": [
      "Epoch 000: Loss: 1.689\n",
      "Epoch 004: Loss: 0.244\n",
      "Epoch 008: Loss: 0.157\n",
      "Epoch 012: Loss: 0.195\n",
      "Epoch 016: Loss: 0.124\n",
      "Epoch 020: Loss: 0.137\n",
      "Epoch 024: Loss: 0.116\n",
      "Epoch 028: Loss: 0.108\n",
      "Epoch 032: Loss: 0.214\n",
      "Epoch 036: Loss: 0.202\n",
      "Epoch 040: Loss: 0.128\n",
      "Epoch 044: Loss: 0.069\n",
      "Epoch 048: Loss: 0.087\n",
      "Epoch 052: Loss: 0.108\n",
      "Epoch 056: Loss: 0.037\n",
      "Epoch 060: Loss: 0.109\n",
      "Epoch 064: Loss: 0.116\n",
      "Epoch 068: Loss: 0.067\n",
      "Epoch 072: Loss: 0.056\n",
      "Epoch 076: Loss: 0.069\n"
     ]
    }
   ],
   "source": [
    "# Build a training loop\n",
    "# We want to generate the data on the fly.\n",
    "\n",
    "# Keep results for plotting\n",
    "train_loss_results = []\n",
    "train_accuracy_results = []\n",
    "\n",
    "num_epochs = 80\n",
    "\n",
    "for epoch in range(num_epochs):\n",
    "    epoch_loss_avg = tf.keras.metrics.Mean()\n",
    "    epoch_accuracy = tf.keras.metrics.SparseCategoricalAccuracy()\n",
    "    \n",
    "    # Training loop - use batches of 500\n",
    "    # Generate the data on the fly\n",
    "    for i in range(32):\n",
    "        mean = np.random.rand()\n",
    "        train_label = mean\n",
    "        train_data = np.random.normal(loc=mean,\n",
    "                                      size=(1, len(indices), 1)).astype(np.float32)\n",
    "        \n",
    "        # Optimize the model\n",
    "        loss_value, grads = grad(model, train_data, train_label)\n",
    "        optimizer.apply_gradients(zip(grads, model.trainable_variables))\n",
    "        \n",
    "        # Track progress\n",
    "        epoch_loss_avg.update_state(loss_value) # Add current batch loss\n",
    "        # Compare predicted label to actual label\n",
    "        # training=True is needed only if there are layers with different\n",
    "        # behavior during training versus inference (e.g. Dropout).\n",
    "        epoch_accuracy.update_state(train_label, model(train_data, training=True))\n",
    "        \n",
    "        # End epoch\n",
    "        train_loss_results.append(epoch_loss_avg.result())\n",
    "        train_accuracy_results.append(epoch_accuracy.result())\n",
    "        \n",
    "    if epoch % 4 == 0:\n",
    "        print(\"Epoch {:03d}: Loss: {:.3f}\".format(epoch, epoch_loss_avg.result()))"
   ]
  },
  {
   "cell_type": "code",
   "execution_count": 181,
   "metadata": {},
   "outputs": [
    {
     "name": "stdout",
     "output_type": "stream",
     "text": [
      "Model predicted 0.500668, true label is 0.49593035265186136\n",
      "Model predicted 0.461828, true label is 0.4492299283898914\n",
      "Model predicted 0.187217, true label is 0.2310057791486534\n",
      "Model predicted 0.381821, true label is 0.37286753836037223\n",
      "Model predicted 0.893433, true label is 0.8357651013747519\n",
      "Model predicted -0.056420, true label is 0.008475265357443917\n",
      "Model predicted 0.026300, true label is 0.07983285915162808\n",
      "Model predicted 0.063812, true label is 0.13180240491726603\n",
      "Model predicted 1.095965, true label is 0.9619843793222047\n",
      "Model predicted 0.692374, true label is 0.6746442286125056\n"
     ]
    }
   ],
   "source": [
    "for i in range(10):\n",
    "    mean = np.random.rand()\n",
    "    label = mean\n",
    "    data = np.random.normal(loc=mean, \n",
    "                            size=(1, len(indices), 1)).astype(np.float32)\n",
    "    predictions = model(data)\n",
    "    print(\"Model predicted %f, true label is %s\" % (predictions, mean))"
   ]
  },
  {
   "cell_type": "code",
   "execution_count": 194,
   "metadata": {},
   "outputs": [
    {
     "data": {
      "image/png": "[encoded data removed]",
      "text/plain": [
       "<Figure size 864x576 with 1 Axes>"
      ]
     },
     "metadata": {
      "needs_background": "light"
     },
     "output_type": "display_data"
    }
   ],
   "source": [
    "%matplotlib inline\n",
    "plt.figure(figsize=(12, 8))\n",
    "plt.title('Training Metrics')\n",
    "\n",
    "plt.ylabel(\"Loss\", fontsize=14)\n",
    "plt.plot(train_loss_results)\n",
    "plt.xlabel(\"Step\", fontsize=14)\n",
    "plt.show()\n"
   ]
  },
  {
   "cell_type": "code",
   "execution_count": null,
   "metadata": {},
   "outputs": [],
   "source": []
  }
 ],
 "metadata": {
  "kernelspec": {
   "display_name": "Python 3",
   "language": "python",
   "name": "python3"
  },
  "language_info": {
   "codemirror_mode": {
    "name": "ipython",
    "version": 3
   },
   "file_extension": ".py",
   "mimetype": "text/x-python",
   "name": "python",
   "nbconvert_exporter": "python",
   "pygments_lexer": "ipython3",
   "version": "3.6.10"
  }
 },
 "nbformat": 4,
 "nbformat_minor": 4
}
