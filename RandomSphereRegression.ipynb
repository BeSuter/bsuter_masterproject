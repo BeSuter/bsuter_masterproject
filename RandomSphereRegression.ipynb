{
 "cells": [
  {
   "cell_type": "code",
   "execution_count": 2,
   "metadata": {},
   "outputs": [
    {
     "name": "stderr",
     "output_type": "stream",
     "text": [
      "In /Users/BenjaminSuter/opt/anaconda3/envs/python36/lib/python3.6/site-packages/matplotlib/mpl-data/stylelib/_classic_test.mplstyle: \n",
      "The text.latex.unicode rcparam was deprecated in Matplotlib 3.0 and will be removed in 3.2.\n",
      "In /Users/BenjaminSuter/opt/anaconda3/envs/python36/lib/python3.6/site-packages/matplotlib/mpl-data/stylelib/_classic_test.mplstyle: \n",
      "The savefig.frameon rcparam was deprecated in Matplotlib 3.1 and will be removed in 3.3.\n",
      "In /Users/BenjaminSuter/opt/anaconda3/envs/python36/lib/python3.6/site-packages/matplotlib/mpl-data/stylelib/_classic_test.mplstyle: \n",
      "The pgf.debug rcparam was deprecated in Matplotlib 3.0 and will be removed in 3.2.\n",
      "In /Users/BenjaminSuter/opt/anaconda3/envs/python36/lib/python3.6/site-packages/matplotlib/mpl-data/stylelib/_classic_test.mplstyle: \n",
      "The verbose.level rcparam was deprecated in Matplotlib 3.1 and will be removed in 3.3.\n",
      "In /Users/BenjaminSuter/opt/anaconda3/envs/python36/lib/python3.6/site-packages/matplotlib/mpl-data/stylelib/_classic_test.mplstyle: \n",
      "The verbose.fileo rcparam was deprecated in Matplotlib 3.1 and will be removed in 3.3.\n"
     ]
    },
    {
     "name": "stdout",
     "output_type": "stream",
     "text": [
      "(12288,)\n",
      "WARNING: This network assumes that everything concerning healpy is in NEST ordering...\n",
      "Detected a reduction factor of 16, the input with nside 32 will be reduced to 2 during a forward pass. Checking for consistency with indices...\n",
      "indices seem consistent...\n"
     ]
    }
   ],
   "source": [
    "import tensorflow as tf\n",
    "import numpy as np\n",
    "import healpy as hp\n",
    "\n",
    "from DeepSphere import healpy_networks as hp_nn\n",
    "from DeepSphere import gnn_layers\n",
    "import matplotlib.pyplot as plt\n",
    "\n",
    "NSIDE = 32\n",
    "NPIX = hp.nside2npix(NSIDE)\n",
    "\n",
    "all_ipix = list(range(NPIX))\n",
    "hp_map = np.arange(NPIX)\n",
    "\n",
    "hp_map_nest = hp.reorder(hp_map, r2n=True)\n",
    "print(np.shape(hp_map_nest))\n",
    "\n",
    "\n",
    "# define some layers (can be mixed with normal tf layers)\n",
    "# define only one output layer --> only want the mean !?\n",
    "layers = [gnn_layers.HealpyPseudoConv(p=1, Fout=4, activation='elu'),\n",
    "          gnn_layers.HealpyPool(p=1),\n",
    "          hp_nn.HealpyChebyshev5(K=5, Fout=8),\n",
    "          gnn_layers.HealpyPseudoConv(p=2, Fout=16, activation='elu'),\n",
    "          hp_nn.HealpyMonomial(K=5, Fout=32),\n",
    "          hp_nn.Healpy_ResidualLayer(\"CHEBY\", layer_kwargs={\"K\": 5}),\n",
    "          tf.keras.layers.Flatten(),\n",
    "          tf.keras.layers.Dense(1)]\n",
    "\n",
    " # build a model\n",
    "tf.keras.backend.clear_session()\n",
    "indices = np.arange(NPIX)\n",
    "model = hp_nn.HealpyGCNN(nside=NSIDE, indices=indices, layers=layers)"
   ]
  },
  {
   "cell_type": "code",
   "execution_count": 236,
   "metadata": {},
   "outputs": [
    {
     "name": "stdout",
     "output_type": "stream",
     "text": [
      "Epoch 1/4\n",
      "500/500 [==============================] - 9s 19ms/step - loss: 0.5284 - val_loss: 0.2643\n",
      "Epoch 2/4\n",
      "500/500 [==============================] - 9s 19ms/step - loss: 0.2650 - val_loss: 0.2493\n",
      "Epoch 3/4\n",
      "500/500 [==============================] - 9s 19ms/step - loss: 55.6927 - val_loss: 0.2491\n",
      "Epoch 4/4\n",
      "500/500 [==============================] - 9s 19ms/step - loss: 0.2496 - val_loss: 0.2535\n"
     ]
    },
    {
     "data": {
      "text/plain": [
       "<tensorflow.python.keras.callbacks.History at 0x7fa4bf961668>"
      ]
     },
     "execution_count": 236,
     "metadata": {},
     "output_type": "execute_result"
    }
   ],
   "source": [
    "# we build the model\n",
    "# unlike most CNN achitectures you MUST supply in the batch dimension here\n",
    "model.build(input_shape=(1, len(indices), 1))\n",
    "#model.summary(line_length=100)\n",
    "\n",
    "inp = np.random.normal(loc=12, size=(1, len(indices), 1)).astype(np.float32)\n",
    "out = model(inp)\n",
    "\n",
    "\n",
    "model.compile(optimizer=tf.optimizers.Adam(learning_rate=0.01), \n",
    "              loss='mean_absolute_error')\n",
    "\n",
    "\n",
    "train_data = []\n",
    "train_labels = []\n",
    "for i in range(20000):\n",
    "    mean = np.random.rand()\n",
    "    train_labels.append(mean)\n",
    "    train_data.append(np.random.normal(loc=mean, size=(len(indices), 1)).astype(np.float32))\n",
    "train_data = np.asarray(train_data)\n",
    "train_labels = np.asarray(train_labels)\n",
    "\n",
    "\n",
    "model.fit(train_data, train_labels, epochs=4, validation_split=0.2)"
   ]
  },
  {
   "cell_type": "code",
   "execution_count": 237,
   "metadata": {},
   "outputs": [
    {
     "name": "stdout",
     "output_type": "stream",
     "text": [
      "Model predicted 0.438057, true label is 0.6601020288909257\n",
      "Model predicted 0.438057, true label is 0.41434665118696024\n",
      "Model predicted 0.438057, true label is 0.2692421258154595\n",
      "Model predicted 0.438057, true label is 0.38742068944367347\n",
      "Model predicted 0.438057, true label is 0.26726135986508015\n",
      "Model predicted 0.438057, true label is 0.8875094255270283\n",
      "Model predicted 0.438057, true label is 0.5629249756565671\n",
      "Model predicted 0.438057, true label is 0.42241398245632633\n",
      "Model predicted 0.438057, true label is 0.06024978594143493\n",
      "Model predicted 0.438057, true label is 0.5181609379057786\n"
     ]
    }
   ],
   "source": [
    "for i in range(10):\n",
    "    mean= np.random.rand()\n",
    "    predictions = model(np.random.normal(loc=mean, size=(1, len(indices), 1)))\n",
    "    print(\"Model predicted %f, true label is %s\" % (predictions, mean))"
   ]
  },
  {
   "cell_type": "markdown",
   "metadata": {},
   "source": [
    "# Now we'll try to implement custom training:"
   ]
  },
  {
   "cell_type": "code",
   "execution_count": 3,
   "metadata": {},
   "outputs": [
    {
     "name": "stdout",
     "output_type": "stream",
     "text": [
      "WARNING: This network assumes that everything concerning healpy is in NEST ordering...\n",
      "Detected a reduction factor of 8, the input with nside 32 will be reduced to 4 during a forward pass. Checking for consistency with indices...\n",
      "indices seem consistent...\n"
     ]
    }
   ],
   "source": [
    "# Redefine the model\n",
    "#layers = [gnn_layers.HealpyPseudoConv(p=1, Fout=4, activation='elu'),\n",
    "#          gnn_layers.HealpyPool(p=1),\n",
    "#          hp_nn.HealpyChebyshev5(K=5, Fout=8),\n",
    "#          gnn_layers.HealpyPseudoConv(p=2, Fout=16, activation='elu'),\n",
    "#          hp_nn.HealpyMonomial(K=5, Fout=32),\n",
    "#          hp_nn.Healpy_ResidualLayer(\"CHEBY\", layer_kwargs={\"K\": 5}),\n",
    "#          tf.keras.layers.Flatten(),\n",
    "#          tf.keras.layers.Dense(1)]\n",
    "\n",
    "layers = [gnn_layers.HealpyPseudoConv(p=1, Fout=4, activation='elu'),\n",
    "          gnn_layers.HealpyPseudoConv(p=2, Fout=16, activation='elu'),\n",
    "          tf.keras.layers.Flatten(),\n",
    "          tf.keras.layers.Dense(1)]\n",
    "\n",
    " # build a model\n",
    "tf.keras.backend.clear_session()\n",
    "indices = np.arange(NPIX)\n",
    "custom_model = hp_nn.HealpyGCNN(nside=NSIDE, indices=indices, layers=layers)\n",
    "\n",
    "custom_model.build(input_shape=(1, len(indices), 1))"
   ]
  },
  {
   "cell_type": "code",
   "execution_count": 4,
   "metadata": {},
   "outputs": [],
   "source": [
    "# Define the loss and gradient function\n",
    "\n",
    "# Again we will use the MeanAbsoluteError()\n",
    "loss_object = tf.keras.losses.MeanAbsoluteError()\n",
    "\n",
    "\n",
    "def loss(model, x, y, training):\n",
    "    # training=training is needed only if there are layers with different\n",
    "    # behavior during training versus inference (e.g. Dropout).\n",
    "    y_ = model(x, training=training)\n",
    "    \n",
    "    return loss_object(y_true=y, y_pred=y_)\n",
    "\n",
    "# Test the loss function\n",
    "mean = np.random.rand()\n",
    "labels = mean\n",
    "data = np.random.normal(loc=mean, size=(1, len(indices), 1)).astype(np.float32)\n",
    "\n",
    "l = loss(custom_model, data, labels, training=False)\n",
    "#print(\"Loss test: {}\".format(l))"
   ]
  },
  {
   "cell_type": "code",
   "execution_count": 5,
   "metadata": {},
   "outputs": [
    {
     "name": "stdout",
     "output_type": "stream",
     "text": [
      "Step: 0, Initial Loss: 0.8066471219062805\n",
      "Step: 1,         Loss: 7.012959003448486\n"
     ]
    }
   ],
   "source": [
    "# Use the tf.GradientTape contex to calculate the gradients used\n",
    "# to optimize the model.\n",
    "def grad(model, inputs, targets):\n",
    "    with tf.GradientTape() as tape:\n",
    "        loss_value = loss(model, inputs, targets, training=True)\n",
    "    return loss_value, tape.gradient(loss_value, model.trainable_variables)\n",
    "\n",
    "# Setup the optimizer\n",
    "optimizer = tf.keras.optimizers.Adam(learning_rate=0.01)\n",
    "\n",
    "# Use this to calculate one single optimization step:\n",
    "\n",
    "loss_value, grads = grad(custom_model, data, labels)\n",
    "\n",
    "print(\"Step: {}, Initial Loss: {}\".format(optimizer.iterations.numpy(),\n",
    "                                          loss_value.numpy()))\n",
    "\n",
    "optimizer.apply_gradients(zip(grads, custom_model.trainable_variables))\n",
    "\n",
    "print(\"Step: {},         Loss: {}\".format(optimizer.iterations.numpy(),\n",
    "                                          loss(custom_model, data, labels,\n",
    "                                               training=True).numpy()))"
   ]
  },
  {
   "cell_type": "code",
   "execution_count": 6,
   "metadata": {},
   "outputs": [
    {
     "name": "stdout",
     "output_type": "stream",
     "text": [
      "Epoch 000: Loss: 1.028\n",
      "Epoch 004: Loss: 0.504\n",
      "Epoch 008: Loss: 0.485\n",
      "Epoch 012: Loss: 0.988\n",
      "Epoch 016: Loss: 1.634\n",
      "Epoch 020: Loss: 1.612\n",
      "Epoch 024: Loss: 1.197\n",
      "Epoch 028: Loss: 1.103\n",
      "Epoch 032: Loss: 1.091\n",
      "Epoch 036: Loss: 1.103\n",
      "Epoch 040: Loss: 1.147\n",
      "Epoch 044: Loss: 1.563\n",
      "Epoch 048: Loss: 1.230\n",
      "Epoch 052: Loss: 1.229\n",
      "Epoch 056: Loss: 1.395\n",
      "Epoch 060: Loss: 0.998\n",
      "Epoch 064: Loss: 1.158\n",
      "Epoch 068: Loss: 1.222\n",
      "Epoch 072: Loss: 1.383\n",
      "Epoch 076: Loss: 1.838\n",
      "Epoch 080: Loss: 1.779\n",
      "Epoch 084: Loss: 1.683\n",
      "Epoch 088: Loss: 1.829\n",
      "Epoch 092: Loss: 1.616\n",
      "Epoch 096: Loss: 1.110\n"
     ]
    }
   ],
   "source": [
    "# Build a training loop\n",
    "# We want to generate the data on the fly.\n",
    "\n",
    "# Keep results for plotting\n",
    "train_loss_results = []\n",
    "train_accuracy_results = []\n",
    "\n",
    "num_epochs = 100\n",
    "\n",
    "for epoch in range(num_epochs):\n",
    "    epoch_loss_avg = tf.keras.metrics.Mean()\n",
    "    epoch_accuracy = tf.keras.metrics.SparseCategoricalAccuracy()\n",
    "    \n",
    "    # Training loop - use batches of 500\n",
    "    # Generate the data on the fly\n",
    "    for i in range(100):\n",
    "        mean = np.random.rand()\n",
    "        train_label = mean\n",
    "        train_data = np.random.normal(loc=mean,\n",
    "                                      size=(1, len(indices), 1)).astype(np.float32)\n",
    "        \n",
    "        # Optimize the model\n",
    "        loss_value, grads = grad(custom_model, train_data, train_label)\n",
    "        optimizer.apply_gradients(zip(grads, custom_model.trainable_variables))\n",
    "        \n",
    "        # Track progress\n",
    "        epoch_loss_avg.update_state(loss_value) # Add current batch loss\n",
    "        # Compare predicted label to actual label\n",
    "        # training=True is needed only if there are layers with different\n",
    "        # behavior during training versus inference (e.g. Dropout).\n",
    "        epoch_accuracy.update_state(train_label, custom_model(train_data, training=True))\n",
    "        \n",
    "        # End epoch\n",
    "        train_loss_results.append(epoch_loss_avg.result())\n",
    "        train_accuracy_results.append(epoch_accuracy.result())\n",
    "        \n",
    "    if epoch % 4 == 0:\n",
    "        print(\"Epoch {:03d}: Loss: {:.3f}\".format(epoch, epoch_loss_avg.result()))"
   ]
  },
  {
   "cell_type": "code",
   "execution_count": 7,
   "metadata": {},
   "outputs": [
    {
     "name": "stdout",
     "output_type": "stream",
     "text": [
      "Model predicted 1.014382, true label is 0.8603192340059049\n",
      "Model predicted 0.576817, true label is 0.7542644815211618\n",
      "Model predicted 1.056386, true label is 0.7049860542318273\n",
      "Model predicted 1.371791, true label is 0.8380220202775416\n",
      "Model predicted -0.145998, true label is 0.9344039823882875\n",
      "Model predicted 3.379085, true label is 0.8120185414704469\n",
      "Model predicted -0.816014, true label is 0.9224518059113849\n",
      "Model predicted -2.060829, true label is 0.9179972240894242\n",
      "Model predicted 1.029763, true label is 0.7237832213144617\n",
      "Model predicted 0.231367, true label is 0.011695698056331305\n"
     ]
    }
   ],
   "source": [
    "for i in range(10):\n",
    "    mean = np.random.rand()\n",
    "    label = mean\n",
    "    data = np.random.normal(loc=mean, \n",
    "                            size=(1, len(indices), 1)).astype(np.float32)\n",
    "    predictions = custom_model(data)\n",
    "    print(\"Model predicted %f, true label is %s\" % (predictions, mean))"
   ]
  },
  {
   "cell_type": "code",
   "execution_count": 8,
   "metadata": {},
   "outputs": [
    {
     "data": {
      "image/png": "[encoded data removed]",
      "text/plain": [
       "<Figure size 864x576 with 1 Axes>"
      ]
     },
     "metadata": {
      "needs_background": "light"
     },
     "output_type": "display_data"
    }
   ],
   "source": [
    "%matplotlib inline\n",
    "plt.figure(figsize=(12, 8))\n",
    "plt.title('Training Metrics')\n",
    "\n",
    "plt.ylabel(\"Loss\", fontsize=14)\n",
    "plt.plot(train_loss_results)\n",
    "plt.xlabel(\"Step\", fontsize=14)\n",
    "plt.show()\n"
   ]
  },
  {
   "cell_type": "code",
   "execution_count": null,
   "metadata": {},
   "outputs": [],
   "source": []
  }
 ],
 "metadata": {
  "kernelspec": {
   "display_name": "Python 3",
   "language": "python",
   "name": "python3"
  },
  "language_info": {
   "codemirror_mode": {
    "name": "ipython",
    "version": 3
   },
   "file_extension": ".py",
   "mimetype": "text/x-python",
   "name": "python",
   "nbconvert_exporter": "python",
   "pygments_lexer": "ipython3",
   "version": "3.6.10"
  }
 },
 "nbformat": 4,
 "nbformat_minor": 4
}
